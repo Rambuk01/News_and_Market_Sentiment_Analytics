{
 "cells": [
  {
   "cell_type": "code",
   "execution_count": null,
   "metadata": {},
   "outputs": [],
   "source": [
    "from transformers import pipeline\n",
    "classifier = pipeline(\"zero-shot-classification\",\n",
    "                      model = \"typeform/distilbert-base-uncased-mnli\"\n",
    "                      )\n",
    "candidate_labels = [\"Joy\", \"Anger\", \"Surprise\", \"Sadness\", \"Fear\", \"Confidence\"]\n",
    "\n",
    "classifier(\n",
    "    \"And then something dreadful happenened. I wouldn't dare to rethink it if I had no need.\",\n",
    "    candidate_labels\n",
    "    )"
   ]
  }
 ],
 "metadata": {
  "kernelspec": {
   "display_name": ".venv",
   "language": "python",
   "name": "python3"
  },
  "language_info": {
   "name": "python",
   "version": "3.12.3"
  }
 },
 "nbformat": 4,
 "nbformat_minor": 2
}

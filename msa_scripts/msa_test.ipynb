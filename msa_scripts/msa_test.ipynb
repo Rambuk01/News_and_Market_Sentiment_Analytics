{
 "cells": [
  {
   "cell_type": "code",
   "execution_count": 1,
   "metadata": {},
   "outputs": [
    {
     "name": "stderr",
     "output_type": "stream",
     "text": [
      "/Users/mariofestersen/Library/CloudStorage/GoogleDrive-festersenmario@gmail.com/My Drive/SDU/DS821 - Market Sentiment Analysis/News_and_Market_Sentiment_Analytics/msa_scripts/venv/lib/python3.11/site-packages/tqdm/auto.py:21: TqdmWarning: IProgress not found. Please update jupyter and ipywidgets. See https://ipywidgets.readthedocs.io/en/stable/user_install.html\n",
      "  from .autonotebook import tqdm as notebook_tqdm\n"
     ]
    },
    {
     "name": "stdout",
     "output_type": "stream",
     "text": [
      "[{'label': 'NEGATIVE', 'score': 0.9769273996353149}]\n"
     ]
    }
   ],
   "source": [
    "from functions import *"
   ]
  },
  {
   "cell_type": "code",
   "execution_count": 2,
   "metadata": {},
   "outputs": [],
   "source": [
    "text = get_notes_from_the_underground()"
   ]
  },
  {
   "cell_type": "code",
   "execution_count": 4,
   "metadata": {},
   "outputs": [],
   "source": [
    "classifier = pipeline('sentiment-analysis', model=\"distilbert-base-uncased-finetuned-sst-2-english\", device=0)"
   ]
  },
  {
   "cell_type": "code",
   "execution_count": null,
   "metadata": {},
   "outputs": [
    {
     "data": {
      "text/plain": [
       "[{'label': 'POSITIVE', 'score': 0.741710364818573},\n",
       " {'label': 'NEGATIVE', 'score': 0.998292863368988}]"
      ]
     },
     "execution_count": 26,
     "metadata": {},
     "output_type": "execute_result"
    }
   ],
   "source": [
    "result = classifier(['This is such a wonderfully bad book, its almost amazing. Its actually insanely beautifully wierdly something whatever', 'I love how bad it is.'])\n",
    "result"
   ]
  },
  {
   "cell_type": "markdown",
   "metadata": {},
   "source": [
    "\n",
    "\n",
    "# Week 1 Coding Challenge: Skipping ahead to the end\n",
    "\n",
    "### 1. Your computer can read\n",
    "\n",
    "- Use transformers to run a sentiment analysis on a sentence in less than 20 lines of code.\n",
    "- Try it on this sentence: \"That would have been splendid. Absolutely amazing. But it was quite the opposite.\"\n",
    "- Would you think the sentence above would be classified as positive or negative based on the words alone without the context of the entire sentence?\n",
    "\n",
    "See this: [Getting Started with Hugging Face](https://www.kaggle.com/code/anubhavgoyal10/getting-started-with-hugging-face)\n",
    "\n",
    "Here is something to get you started:\n",
    "\n",
    "```python\n",
    "from transformers import pipeline\n",
    "classifier = pipeline([insert task name])\n",
    "```\n",
    "\n",
    "### 2. Your computer can easily read an entire book\n",
    "- Build a function \"GetSentiment\" which should return the sentiment of a list of sentences (based on the approach above).\n",
    "\n",
    "- Run this function on every single sentence of \"Notes from the Underground\".\n",
    "\n",
    "- Visualize how the sentiment of \"Notes from the Underground\" evolves through the entire book. (It might be handy to estimate a moving average of e.g. 50 sentences to 'smooth' out the sentence by sentence sentiment.)\n",
    "\n",
    "Resources: [\"Notes from the Underground\" by Fyodor Dostoyevsky](https://www.gutenberg.org/cache/epub/600/pg600.txt)\n",
    "\n",
    "**Extra:** You can also try with [\"Pride and Prejudice\" by Jane Austen](https://www.gutenberg.org/files/1342/1342-0.txt)\n",
    "#### Hint 1\n",
    "You can steal this function to load up the the entire text\n",
    "```python\n",
    "def get_notes_from_the_underground():\n",
    "    \"\"\"\n",
    "    This function retrieves *Notes from the Underground* from the Gutenberg\n",
    "    website. It also does some text cleaning and separates each sentence into\n",
    "    list elements.\n",
    "    \"\"\"\n",
    "    url = 'https://www.gutenberg.org/cache/epub/600/pg600.txt'\n",
    "    response = requests.get(url)\n",
    "    if response.status_code == 200:\n",
    "        response.encoding = 'utf-8'\n",
    "        text = response.text\n",
    "\n",
    "        # Split text into sentences\n",
    "        sentences = re.split(r'(?<!\\w\\.\\w.)(?<![A-Z][a-z]\\.)(?<=\\.|\\?)\\s|\\r\\n\\r\\n', text)\n",
    "        # Clean text\n",
    "        sentences = sentences[11:]\n",
    "        sentences = sentences[:-117]\n",
    "        return sentences\n",
    "    else:\n",
    "        raise Exception(f\"Failed to retrieve data from {url}. Status code: {response.status_code}\")\n",
    "    return text\n",
    "```\n",
    "\n",
    "#### Hint 2\n",
    "The following function might also be handy:\n",
    "```python\n",
    "def get_positive_score(x):\n",
    "    \"\"\"\n",
    "    The pipeline returns 'POSITIVE' or 'NEGATIVE' and a probability, where the\n",
    "    label is based on what is the most likely sentiment of the sentence. It\n",
    "    turns out to be useful to have one continuous score from -1 to 1, which\n",
    "    captures completely 'postive' if 1 and completely 'negative' if -1. This\n",
    "    function handles that.\n",
    "    \"\"\"\n",
    "    if x[\"label\"] == \"POSITIVE\":\n",
    "        res_x = x['score']\n",
    "    elif x[\"label\"] == \"NEGATIVE\":\n",
    "        res_x = 1 - x['score']\n",
    "    else:\n",
    "        raise Exception(x[\"label\"]+\"This should not be possible\")\n",
    "\n",
    "    res_x = res_x*2-1 # Expand to -1 to 1 scale\n",
    "\n",
    "    return res_x\n",
    "```\n"
   ]
  }
 ],
 "metadata": {
  "kernelspec": {
   "display_name": "venv",
   "language": "python",
   "name": "python3"
  },
  "language_info": {
   "codemirror_mode": {
    "name": "ipython",
    "version": 3
   },
   "file_extension": ".py",
   "mimetype": "text/x-python",
   "name": "python",
   "nbconvert_exporter": "python",
   "pygments_lexer": "ipython3",
   "version": "3.11.5"
  }
 },
 "nbformat": 4,
 "nbformat_minor": 2
}
